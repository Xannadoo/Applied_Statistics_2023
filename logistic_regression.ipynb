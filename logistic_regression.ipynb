{
 "cells": [
  {
   "cell_type": "markdown",
   "metadata": {},
   "source": [
    "## Imports"
   ]
  },
  {
   "cell_type": "code",
   "execution_count": 44,
   "metadata": {},
   "outputs": [],
   "source": [
    "import numpy as np\n",
    "import pandas as pd\n",
    "import matplotlib.pyplot as plt\n",
    "import seaborn as sns\n",
    "import statsmodels.api as sm\n",
    "\n",
    "from sklearn.model_selection import train_test_split\n",
    "from sklearn.metrics import f1_score\n",
    "from sklearn.metrics import confusion_matrix"
   ]
  },
  {
   "cell_type": "markdown",
   "metadata": {},
   "source": [
    "## Setup dataframes etc"
   ]
  },
  {
   "cell_type": "code",
   "execution_count": 3,
   "metadata": {},
   "outputs": [],
   "source": [
    "leg = ['Alcohol', 'Caff', 'Choc', 'Legalh',  'Nicotine']\n",
    "ileg = ['Amphet', 'Amyl', 'Benzos', 'Cannabis', 'Coke', 'Crack', 'Ecstasy', 'Heroin', 'Ketamine',  'LSD', 'Meth', 'Mushrooms', 'VSA']\n",
    "fic = ['Semer']\n",
    "\n",
    "pers = ['neuroticism', 'extraversion', 'openness', 'agreeableness', 'conscientiousness', 'impulsive', 'sensation', 'intercept']\n",
    "\n",
    "df = pd.read_csv('data.csv', sep=',')\n",
    "\n",
    "df2 = df.copy()\n",
    "\n",
    "use_mapping = {'CL0': 0, #never used\n",
    "               'CL1': 0, #over a decade ago\n",
    "               'CL2': 1, #within the last decade\n",
    "               'CL3': 1, #within the last year\n",
    "               'CL4': 1, #within the last month\n",
    "               'CL5': 1, #within the last week\n",
    "               'CL6': 1} #within the last day\n",
    "\n",
    "for j in ['Alcohol', 'Amphet', 'Amyl', 'Benzos', 'Caff', 'Cannabis', 'Choc', 'Coke', 'Crack',\n",
    "       'Ecstasy', 'Heroin', 'Ketamine', 'Legalh', 'LSD', 'Meth', 'Mushrooms','Nicotine', 'Semer', 'VSA']:\n",
    "    temp = []\n",
    "    for i in df[j]:\n",
    "        temp.append(use_mapping[i])\n",
    "\n",
    "    df2[j] = temp\n",
    "\n",
    "ed_mapping = {'Left school before 16 years': 1,\n",
    "                'Left school at 16 years':2,\n",
    "                'Left school at 17 years':3,\n",
    "                'Left school at 18 years':4,\n",
    "                'Some college or university, no certificate or degree':5,\n",
    "                'Professional certificate/ diploma':6,\n",
    "                'University degree':7,\n",
    "                'Masters degree':8,\n",
    "                'Doctorate degree':9,}\n",
    "\n",
    "\n",
    "df2.education = df2.education.map(ed_mapping)\n",
    "\n",
    "df2['intercept'] = 1 #add intercept column for statsmodel\n",
    "\n",
    "df2['any_illeg'] = 0\n",
    "df2.loc[df2[ileg].sum(axis=1) > 0,'any_illeg'] = 1\n"
   ]
  },
  {
   "cell_type": "markdown",
   "metadata": {},
   "source": [
    "## Helper functions"
   ]
  },
  {
   "cell_type": "code",
   "execution_count": 4,
   "metadata": {},
   "outputs": [],
   "source": [
    "def logistic(X):\n",
    "    '''Given X, returns 1/(1+e^X)'''\n",
    "    return 1/(1 + np.exp(X))\n",
    "\n",
    "def predictor(clf, X, y):\n",
    "    '''Given a model that predicts probabilities, returns 0-1 predictions with 0.5 threshold'''\n",
    "    y_pred = clf.predict(X)\n",
    "    return [0 if a < 0.5 else 1 for a in y_pred]"
   ]
  },
  {
   "cell_type": "code",
   "execution_count": 5,
   "metadata": {},
   "outputs": [],
   "source": [
    "drug = 'any_illeg'\n",
    "X = df2[pers]\n",
    "y = df2[drug]\n",
    "\n",
    "X_train, X_test, y_train, y_test = train_test_split(X, y, test_size=0.2, random_state=42, stratify=y)"
   ]
  },
  {
   "cell_type": "code",
   "execution_count": 6,
   "metadata": {},
   "outputs": [
    {
     "name": "stdout",
     "output_type": "stream",
     "text": [
      "Optimization terminated successfully.\n",
      "         Current function value: 0.428956\n",
      "         Iterations 7\n"
     ]
    },
    {
     "data": {
      "text/html": [
       "<table class=\"simpletable\">\n",
       "<caption>Logit Regression Results</caption>\n",
       "<tr>\n",
       "  <th>Dep. Variable:</th>       <td>any_illeg</td>    <th>  No. Observations:  </th>  <td>  1508</td>  \n",
       "</tr>\n",
       "<tr>\n",
       "  <th>Model:</th>                 <td>Logit</td>      <th>  Df Residuals:      </th>  <td>  1500</td>  \n",
       "</tr>\n",
       "<tr>\n",
       "  <th>Method:</th>                 <td>MLE</td>       <th>  Df Model:          </th>  <td>     7</td>  \n",
       "</tr>\n",
       "<tr>\n",
       "  <th>Date:</th>            <td>Thu, 28 Dec 2023</td> <th>  Pseudo R-squ.:     </th>  <td>0.2362</td>  \n",
       "</tr>\n",
       "<tr>\n",
       "  <th>Time:</th>                <td>13:12:43</td>     <th>  Log-Likelihood:    </th> <td> -646.87</td> \n",
       "</tr>\n",
       "<tr>\n",
       "  <th>converged:</th>             <td>True</td>       <th>  LL-Null:           </th> <td> -846.90</td> \n",
       "</tr>\n",
       "<tr>\n",
       "  <th>Covariance Type:</th>     <td>nonrobust</td>    <th>  LLR p-value:       </th> <td>2.305e-82</td>\n",
       "</tr>\n",
       "</table>\n",
       "<table class=\"simpletable\">\n",
       "<tr>\n",
       "          <td></td>             <th>coef</th>     <th>std err</th>      <th>z</th>      <th>P>|z|</th>  <th>[0.025</th>    <th>0.975]</th>  \n",
       "</tr>\n",
       "<tr>\n",
       "  <th>neuroticism</th>       <td>    0.0973</td> <td>    0.086</td> <td>    1.133</td> <td> 0.257</td> <td>   -0.071</td> <td>    0.266</td>\n",
       "</tr>\n",
       "<tr>\n",
       "  <th>extraversion</th>      <td>   -0.3805</td> <td>    0.091</td> <td>   -4.170</td> <td> 0.000</td> <td>   -0.559</td> <td>   -0.202</td>\n",
       "</tr>\n",
       "<tr>\n",
       "  <th>openness</th>          <td>    0.6355</td> <td>    0.083</td> <td>    7.642</td> <td> 0.000</td> <td>    0.473</td> <td>    0.799</td>\n",
       "</tr>\n",
       "<tr>\n",
       "  <th>agreeableness</th>     <td>   -0.2543</td> <td>    0.077</td> <td>   -3.325</td> <td> 0.001</td> <td>   -0.404</td> <td>   -0.104</td>\n",
       "</tr>\n",
       "<tr>\n",
       "  <th>conscientiousness</th> <td>   -0.4468</td> <td>    0.085</td> <td>   -5.235</td> <td> 0.000</td> <td>   -0.614</td> <td>   -0.280</td>\n",
       "</tr>\n",
       "<tr>\n",
       "  <th>impulsive</th>         <td>    0.1213</td> <td>    0.099</td> <td>    1.231</td> <td> 0.218</td> <td>   -0.072</td> <td>    0.314</td>\n",
       "</tr>\n",
       "<tr>\n",
       "  <th>sensation</th>         <td>    0.7331</td> <td>    0.105</td> <td>    6.990</td> <td> 0.000</td> <td>    0.528</td> <td>    0.939</td>\n",
       "</tr>\n",
       "<tr>\n",
       "  <th>intercept</th>         <td>    1.5290</td> <td>    0.082</td> <td>   18.554</td> <td> 0.000</td> <td>    1.367</td> <td>    1.690</td>\n",
       "</tr>\n",
       "</table>"
      ],
      "text/latex": [
       "\\begin{center}\n",
       "\\begin{tabular}{lclc}\n",
       "\\toprule\n",
       "\\textbf{Dep. Variable:}    &    any\\_illeg    & \\textbf{  No. Observations:  } &     1508    \\\\\n",
       "\\textbf{Model:}            &      Logit       & \\textbf{  Df Residuals:      } &     1500    \\\\\n",
       "\\textbf{Method:}           &       MLE        & \\textbf{  Df Model:          } &        7    \\\\\n",
       "\\textbf{Date:}             & Thu, 28 Dec 2023 & \\textbf{  Pseudo R-squ.:     } &   0.2362    \\\\\n",
       "\\textbf{Time:}             &     13:12:43     & \\textbf{  Log-Likelihood:    } &   -646.87   \\\\\n",
       "\\textbf{converged:}        &       True       & \\textbf{  LL-Null:           } &   -846.90   \\\\\n",
       "\\textbf{Covariance Type:}  &    nonrobust     & \\textbf{  LLR p-value:       } & 2.305e-82   \\\\\n",
       "\\bottomrule\n",
       "\\end{tabular}\n",
       "\\begin{tabular}{lcccccc}\n",
       "                           & \\textbf{coef} & \\textbf{std err} & \\textbf{z} & \\textbf{P$> |$z$|$} & \\textbf{[0.025} & \\textbf{0.975]}  \\\\\n",
       "\\midrule\n",
       "\\textbf{neuroticism}       &       0.0973  &        0.086     &     1.133  &         0.257        &       -0.071    &        0.266     \\\\\n",
       "\\textbf{extraversion}      &      -0.3805  &        0.091     &    -4.170  &         0.000        &       -0.559    &       -0.202     \\\\\n",
       "\\textbf{openness}          &       0.6355  &        0.083     &     7.642  &         0.000        &        0.473    &        0.799     \\\\\n",
       "\\textbf{agreeableness}     &      -0.2543  &        0.077     &    -3.325  &         0.001        &       -0.404    &       -0.104     \\\\\n",
       "\\textbf{conscientiousness} &      -0.4468  &        0.085     &    -5.235  &         0.000        &       -0.614    &       -0.280     \\\\\n",
       "\\textbf{impulsive}         &       0.1213  &        0.099     &     1.231  &         0.218        &       -0.072    &        0.314     \\\\\n",
       "\\textbf{sensation}         &       0.7331  &        0.105     &     6.990  &         0.000        &        0.528    &        0.939     \\\\\n",
       "\\textbf{intercept}         &       1.5290  &        0.082     &    18.554  &         0.000        &        1.367    &        1.690     \\\\\n",
       "\\bottomrule\n",
       "\\end{tabular}\n",
       "%\\caption{Logit Regression Results}\n",
       "\\end{center}"
      ],
      "text/plain": [
       "<class 'statsmodels.iolib.summary.Summary'>\n",
       "\"\"\"\n",
       "                           Logit Regression Results                           \n",
       "==============================================================================\n",
       "Dep. Variable:              any_illeg   No. Observations:                 1508\n",
       "Model:                          Logit   Df Residuals:                     1500\n",
       "Method:                           MLE   Df Model:                            7\n",
       "Date:                Thu, 28 Dec 2023   Pseudo R-squ.:                  0.2362\n",
       "Time:                        13:12:43   Log-Likelihood:                -646.87\n",
       "converged:                       True   LL-Null:                       -846.90\n",
       "Covariance Type:            nonrobust   LLR p-value:                 2.305e-82\n",
       "=====================================================================================\n",
       "                        coef    std err          z      P>|z|      [0.025      0.975]\n",
       "-------------------------------------------------------------------------------------\n",
       "neuroticism           0.0973      0.086      1.133      0.257      -0.071       0.266\n",
       "extraversion         -0.3805      0.091     -4.170      0.000      -0.559      -0.202\n",
       "openness              0.6355      0.083      7.642      0.000       0.473       0.799\n",
       "agreeableness        -0.2543      0.077     -3.325      0.001      -0.404      -0.104\n",
       "conscientiousness    -0.4468      0.085     -5.235      0.000      -0.614      -0.280\n",
       "impulsive             0.1213      0.099      1.231      0.218      -0.072       0.314\n",
       "sensation             0.7331      0.105      6.990      0.000       0.528       0.939\n",
       "intercept             1.5290      0.082     18.554      0.000       1.367       1.690\n",
       "=====================================================================================\n",
       "\"\"\""
      ]
     },
     "execution_count": 6,
     "metadata": {},
     "output_type": "execute_result"
    }
   ],
   "source": [
    "clf = sm.Logit(y_train, X_train).fit()\n",
    "\n",
    "clf.summary()"
   ]
  },
  {
   "cell_type": "markdown",
   "metadata": {},
   "source": [
    "### Interpretation:\n",
    "\n",
    "p-vals are interesting here, neuroticism and impulsiveness not significant, suggesting these traits are not useful in predicting drug use."
   ]
  },
  {
   "cell_type": "code",
   "execution_count": 7,
   "metadata": {},
   "outputs": [
    {
     "data": {
      "text/plain": [
       "(0.02041195570188753, 0.020411955701887474)"
      ]
     },
     "execution_count": 7,
     "metadata": {},
     "output_type": "execute_result"
    }
   ],
   "source": [
    "beta = np.array(clf.params).reshape(-1,1)\n",
    "samp = np.array(X_train.iloc[244]).reshape(1,-1) #get a single samp for testing\n",
    "\n",
    "logistic(samp@beta)[0][0], 1-clf.predict(samp)[0] #chance of belonging to the '0' class. This is just for my sanity check."
   ]
  },
  {
   "cell_type": "markdown",
   "metadata": {},
   "source": [
    "Explaining Odds Ratios: https://www.ncbi.nlm.nih.gov/pmc/articles/PMC2938757/ \n",
    "\n",
    "Odds ratios are used to compare the relative odds of the occurrence of the outcome of interest (e.g. disease or disorder), given exposure to the variable of interest (e.g. health characteristic, aspect of medical history). The odds ratio can also be used to determine whether a particular exposure is a risk factor for a particular outcome, and to compare the magnitude of various risk factors for that outcome.\n",
    "\n",
    "OR=1 Exposure does not affect odds of outcome\n",
    "\n",
    "OR>1 Exposure associated with higher odds of outcome\n",
    "\n",
    "OR<1 Exposure associated with lower odds of outcome"
   ]
  },
  {
   "cell_type": "code",
   "execution_count": 8,
   "metadata": {},
   "outputs": [
    {
     "name": "stdout",
     "output_type": "stream",
     "text": [
      "                         OR  Lower CI  Upper CI\n",
      "neuroticism        1.102240  0.931445  1.304353\n",
      "extraversion       0.683545  0.571614  0.817393\n",
      "openness           1.887991  1.604041  2.222206\n",
      "agreeableness      0.775427  0.667456  0.900865\n",
      "conscientiousness  0.639646  0.541101  0.756138\n",
      "impulsive          1.128960  0.930683  1.369480\n",
      "sensation          2.081583  1.694794  2.556645\n",
      "intercept          4.613362  3.925295  5.422042\n"
     ]
    }
   ],
   "source": [
    "# code from https://www.andrewvillazon.com/logistic-regression-python-statsmodels/\n",
    "\n",
    "odds_ratios = pd.DataFrame(\n",
    "    {\n",
    "        \"OR\": clf.params,\n",
    "        \"Lower CI\": clf.conf_int()[0],\n",
    "        \"Upper CI\": clf.conf_int()[1],\n",
    "    }\n",
    ")\n",
    "odds_ratios = np.exp(odds_ratios)\n",
    "\n",
    "print(odds_ratios) "
   ]
  },
  {
   "cell_type": "code",
   "execution_count": 9,
   "metadata": {},
   "outputs": [
    {
     "data": {
      "text/plain": [
       "0.8714524207011687"
      ]
     },
     "execution_count": 9,
     "metadata": {},
     "output_type": "execute_result"
    }
   ],
   "source": [
    "y_pred = predictor(clf, X_test, y_test)\n",
    "\n",
    "f1_score(y_pred, y_test)"
   ]
  },
  {
   "cell_type": "code",
   "execution_count": 63,
   "metadata": {},
   "outputs": [
    {
     "name": "stdout",
     "output_type": "stream",
     "text": [
      "Optimization terminated successfully.\n",
      "         Current function value: 0.306096\n",
      "         Iterations 7\n",
      "Drug: Crack\n",
      "F1 score: 0.0\n",
      "                          OR  Lower CI  Upper CI     coefs  p_values\n",
      "neuroticism        1.070747  0.876978  1.307329  0.068356     0.502\n",
      "extraversion       0.859461  0.703853  1.049472 -0.151450     0.137\n",
      "openness           1.171266  0.966024  1.420113  0.158085     0.108\n",
      "agreeableness      0.914404  0.762607  1.096416 -0.089483     0.334\n",
      "conscientiousness  0.827437  0.675689  1.013265 -0.189422     0.067\n",
      "impulsive          1.203208  0.949769  1.524276  0.184992     0.125\n",
      "sensation          1.506501  1.178310  1.926101  0.409789     0.001\n",
      "intercept          0.092730  0.076175  0.112882 -2.378066     0.000\n"
     ]
    },
    {
     "data": {
      "image/png": "[encoded data removed]",
      "text/plain": [
       "<Figure size 640x480 with 2 Axes>"
      ]
     },
     "metadata": {},
     "output_type": "display_data"
    }
   ],
   "source": [
    "drug = 'Crack'\n",
    "\n",
    "y = df2[drug]\n",
    "\n",
    "X_train, X_test, y_train, y_test = train_test_split(X, y, test_size=0.2, random_state=42, stratify=y)\n",
    "\n",
    "clf = sm.Logit(y_train, X_train).fit()\n",
    "\n",
    "#print(clf.summary())\n",
    "\n",
    "odds_ratios = pd.DataFrame(\n",
    "    {\n",
    "        \"OR\": clf.params,\n",
    "        \"Lower CI\": clf.conf_int()[0],\n",
    "        \"Upper CI\": clf.conf_int()[1],\n",
    "    }\n",
    ")\n",
    "odds_ratios = np.exp(odds_ratios)\n",
    "\n",
    "odds_ratios['coefs'] = clf.params\n",
    "odds_ratios['p_values'] = clf.pvalues.round(3)\n",
    "\n",
    "\n",
    "\n",
    "y_pred = predictor(clf, X_test, y_test)\n",
    "cm = confusion_matrix(y_test, y_pred)\n",
    "\n",
    "print(f'Drug: {drug}\\nF1 score: {f1_score(y_pred, y_test):.3}\\n {odds_ratios}')\n",
    "_, axes = plt.subplots(1,1)\n",
    "group_names = ['True Neg','False Pos','False Neg','True Pos']\n",
    "group_counts = [\"{0:0.0f}\".format(value) for value in cm.flatten()]\n",
    "group_percentages = [\"{0:.2%}\".format(value) for value in cm.flatten()/np.sum(cm)]\n",
    "labels = [f\"{v1}\\n{v2}\\n{v3}\" for v1, v2, v3 in zip(group_names,group_counts,group_percentages)]\n",
    "labels = np.asarray(labels).reshape(2,2)\n",
    "axes.set_title(f'{drug}')\n",
    "sns.heatmap(cm, annot=labels, fmt='', cmap='Blues', ax=axes);"
   ]
  },
  {
   "cell_type": "code",
   "execution_count": 62,
   "metadata": {},
   "outputs": [
    {
     "data": {
      "text/plain": [
       "(153, 38)"
      ]
     },
     "execution_count": 62,
     "metadata": {},
     "output_type": "execute_result"
    }
   ],
   "source": [
    "y_train.sum(),y_test.sum()"
   ]
  },
  {
   "cell_type": "code",
   "execution_count": null,
   "metadata": {},
   "outputs": [],
   "source": []
  }
 ],
 "metadata": {
  "kernelspec": {
   "display_name": "ml",
   "language": "python",
   "name": "python3"
  },
  "language_info": {
   "codemirror_mode": {
    "name": "ipython",
    "version": 3
   },
   "file_extension": ".py",
   "mimetype": "text/x-python",
   "name": "python",
   "nbconvert_exporter": "python",
   "pygments_lexer": "ipython3",
   "version": "3.11.4"
  }
 },
 "nbformat": 4,
 "nbformat_minor": 2
}
